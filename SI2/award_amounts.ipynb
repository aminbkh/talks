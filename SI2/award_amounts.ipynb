{
 "metadata": {
  "name": "award_amounts"
 }, 
 "nbformat": 2, 
 "worksheets": [
  {
   "cells": [
    {
     "cell_type": "code", 
     "collapsed": true, 
     "input": [
      "import json", 
      "import re", 
      "import datetime", 
      "", 
      "import matplotlib", 
      "import matplotlib.pyplot as plt"
     ], 
     "language": "python", 
     "outputs": [], 
     "prompt_number": 11
    }, 
    {
     "cell_type": "code", 
     "collapsed": false, 
     "input": [
      "with open(\"awards_SI2.json\") as awards_json:", 
      "  awards = json.load(awards_json)", 
      "", 
      "# get down to the array of awards", 
      "awards = awards['AwardsList']['Award']", 
      "print len(awards)", 
      "print awards[0].keys()"
     ], 
     "language": "python", 
     "outputs": [
      {
       "output_type": "stream", 
       "stream": "stdout", 
       "text": [
        "196", 
        "[u'OrganizationCity', u'OrganizationState', u'Title', u'ProgramManager', u'State', u'Program', u'ProgramElementCode', u'StartDate', u'OrganizationStreet', u'EndDate', u'PrincipalInvestigator', u'ARRAAmount', u'OrganizationPhone', u'AwardNumber', u'PIEmailAddress', u'NSFDirectorate', u'Co-PIName', u'LastAmendmentDate', u'Organization', u'AwardInstrument', u'NsfOrganization', u'AwardedAmountToDate', u'Abstract', u'ProgramReferenceCode', u'OrganizationZip']"
       ]
      }
     ], 
     "prompt_number": 2
    }, 
    {
     "cell_type": "code", 
     "collapsed": false, 
     "input": [
      "# the titles contain the text", 
      "# SI2-SSI or SI2-SSE", 
      "# and variants thereof", 
      "amt = [x['AwardedAmountToDate'] for x in awards if re.match('SI2[:\\-\\s]SSE',x['Title'])]", 
      "#amt = [x['AwardedAmountToDate'] for x in awards if re.match('SI2[:\\-\\s]SSE',x['Title']) and datetime.datetime.strptime(x['EndDate'],\"%m/%d/%Y\") < datetime.datetime.strptime(\"12/01/2016\",\"%m/%d/%Y\")]", 
      "amt = [int(x) for x in amt]", 
      "", 
      "start_dates = [x['StartDate'] for x in awards if re.match('SI2[:\\-\\s]SSE',x['Title'])]", 
      "start_dates = [datetime.datetime.strptime(x,\"%m/%d/%Y\") for x in start_dates]", 
      "", 
      "end_dates = [x['EndDate'] for x in awards if re.match('SI2[:\\-\\s]SSE',x['Title'])]", 
      "end_dates = [datetime.datetime.strptime(x,\"%m/%d/%Y\") for x in end_dates]", 
      "", 
      "#print start_dates[0]", 
      "#print datetime.datetime.strptime(start_dates[0],\"%m/%d/%Y\")", 
      "#print datetime.datetime.now()", 
      "", 
      "plt.hist(amt, 10, facecolor='green', alpha=0.75)"
     ], 
     "language": "python", 
     "outputs": [
      {
       "output_type": "pyout", 
       "prompt_number": 37, 
       "text": [
        "(array([ 2,  4,  3,  2,  4,  4,  3,  4,  5, 36]),", 
        " array([  99995. ,  143195.4,  186395.8,  229596.2,  272796.6,  315997. ,", 
        "        359197.4,  402397.8,  445598.2,  488798.6,  531999. ]),", 
        " <a list of 10 Patch objects>)"
       ]
      }, 
      {
       "output_type": "display_data", 
       "png": "[encoded data removed]"
      }
     ], 
     "prompt_number": 37
    }, 
    {
     "cell_type": "code", 
     "collapsed": false, 
     "input": [
      "# the titles contain the text", 
      "# SI2-SSI or SI2-SSE", 
      "# and variants thereof", 
      "amt = [x['AwardedAmountToDate'] for x in awards if re.match('SI2[:\\-\\s]SSI',x['Title'])]", 
      "#amt = [x['AwardedAmountToDate'] for x in awards if re.match('SI2[:\\-\\s]SSI',x['Title']) and datetime.datetime.strptime(x['EndDate'],\"%m/%d/%Y\") < datetime.datetime.strptime(\"12/01/2016\",\"%m/%d/%Y\")]", 
      "amt = [int(x) for x in amt]", 
      "", 
      "start_dates = [x['StartDate'] for x in awards if re.match('SI2[:\\-\\s]SSE',x['Title'])]", 
      "start_dates = [datetime.datetime.strptime(x,\"%m/%d/%Y\") for x in start_dates]", 
      "", 
      "end_dates = [x['EndDate'] for x in awards if re.match('SI2[:\\-\\s]SSE',x['Title'])]", 
      "end_dates = [datetime.datetime.strptime(x,\"%m/%d/%Y\") for x in end_dates]", 
      "", 
      "#print start_dates[0]", 
      "#print datetime.datetime.strptime(start_dates[0],\"%m/%d/%Y\")", 
      "#print datetime.datetime.now()", 
      "", 
      "plt.hist(amt, 10, facecolor='green', alpha=0.75)"
     ], 
     "language": "python", 
     "outputs": [
      {
       "output_type": "pyout", 
       "prompt_number": 38, 
       "text": [
        "(array([13, 10, 11,  3,  4,  1,  0,  1,  0,  2]),", 
        " array([  194869. ,   655864.2,  1116859.4,  1577854.6,  2038849.8,", 
        "        2499845. ,  2960840.2,  3421835.4,  3882830.6,  4343825.8,", 
        "        4804821. ]),", 
        " <a list of 10 Patch objects>)"
       ]
      }, 
      {
       "output_type": "display_data", 
       "png": "[encoded data removed]"
      }
     ], 
     "prompt_number": 38
    }, 
    {
     "cell_type": "code", 
     "collapsed": true, 
     "input": [], 
     "language": "python", 
     "outputs": []
    }
   ]
  }
 ]
}